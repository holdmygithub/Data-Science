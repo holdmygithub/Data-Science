{
 "cells": [
  {
   "cell_type": "markdown",
   "metadata": {},
   "source": [
    "## Natural Language Processing - SMS Spam Detection\n",
    "\n",
    "**Let's train a model to predict spam messages!**\n",
    "\n",
    "Description of the data:\n",
    "The SMS Spam Collection is a set of SMS tagged messages that have been collected for SMS Spam research. It contains one set of SMS messages in English of 5,574 messages, tagged acording being ham (legitimate) or spam.\n",
    "\n",
    "\n",
    "Dataset used: SMS Spam Collection Dataset, UCI <br>\n",
    "https://www.kaggle.com/uciml/sms-spam-collection-dataset\n",
    "\n",
    "### Importing Initial Libraries"
   ]
  },
  {
   "cell_type": "code",
   "execution_count": 141,
   "metadata": {
    "execution": {
     "iopub.execute_input": "2021-05-26T04:58:40.189650Z",
     "iopub.status.busy": "2021-05-26T04:58:40.189119Z",
     "iopub.status.idle": "2021-05-26T04:58:40.196063Z",
     "shell.execute_reply": "2021-05-26T04:58:40.194922Z",
     "shell.execute_reply.started": "2021-05-26T04:58:40.189583Z"
    }
   },
   "outputs": [],
   "source": [
    "import pandas as pd\n",
    "import numpy as np\n",
    "import seaborn as sns\n",
    "import matplotlib.pyplot as plt\n",
    "sns.set_style('darkgrid')"
   ]
  },
  {
   "cell_type": "markdown",
   "metadata": {},
   "source": [
    "## Data Cleaning and Preparation"
   ]
  },
  {
   "cell_type": "code",
   "execution_count": 142,
   "metadata": {
    "execution": {
     "iopub.execute_input": "2021-05-26T04:58:40.199233Z",
     "iopub.status.busy": "2021-05-26T04:58:40.198503Z",
     "iopub.status.idle": "2021-05-26T04:58:40.236272Z",
     "shell.execute_reply": "2021-05-26T04:58:40.235535Z",
     "shell.execute_reply.started": "2021-05-26T04:58:40.199167Z"
    }
   },
   "outputs": [
    {
     "name": "stdout",
     "output_type": "stream",
     "text": [
      "<class 'pandas.core.frame.DataFrame'>\n",
      "RangeIndex: 5572 entries, 0 to 5571\n",
      "Data columns (total 5 columns):\n",
      " #   Column      Non-Null Count  Dtype \n",
      "---  ------      --------------  ----- \n",
      " 0   v1          5572 non-null   object\n",
      " 1   v2          5572 non-null   object\n",
      " 2   Unnamed: 2  50 non-null     object\n",
      " 3   Unnamed: 3  12 non-null     object\n",
      " 4   Unnamed: 4  6 non-null      object\n",
      "dtypes: object(5)\n",
      "memory usage: 217.8+ KB\n"
     ]
    }
   ],
   "source": [
    "#reading the data\n",
    "df = pd.read_csv('../input/sms-spam-collection-dataset/spam.csv',encoding='latin1')\n",
    "\n",
    "#printing data information\n",
    "df.info()"
   ]
  },
  {
   "cell_type": "markdown",
   "metadata": {},
   "source": [
    "**The 2nd, 3rd, and 4th columns are having too many null values.**\n",
    "\n",
    "**Let's explore these columns in detail.**\n"
   ]
  },
  {
   "cell_type": "code",
   "execution_count": 143,
   "metadata": {
    "execution": {
     "iopub.execute_input": "2021-05-26T04:58:40.237908Z",
     "iopub.status.busy": "2021-05-26T04:58:40.237476Z",
     "iopub.status.idle": "2021-05-26T04:58:40.253648Z",
     "shell.execute_reply": "2021-05-26T04:58:40.252690Z",
     "shell.execute_reply.started": "2021-05-26T04:58:40.237874Z"
    }
   },
   "outputs": [
    {
     "data": {
      "text/html": [
       "<div>\n",
       "<style scoped>\n",
       "    .dataframe tbody tr th:only-of-type {\n",
       "        vertical-align: middle;\n",
       "    }\n",
       "\n",
       "    .dataframe tbody tr th {\n",
       "        vertical-align: top;\n",
       "    }\n",
       "\n",
       "    .dataframe thead th {\n",
       "        text-align: right;\n",
       "    }\n",
       "</style>\n",
       "<table border=\"1\" class=\"dataframe\">\n",
       "  <thead>\n",
       "    <tr style=\"text-align: right;\">\n",
       "      <th></th>\n",
       "      <th>Unnamed: 2</th>\n",
       "      <th>Unnamed: 3</th>\n",
       "      <th>Unnamed: 4</th>\n",
       "    </tr>\n",
       "  </thead>\n",
       "  <tbody>\n",
       "    <tr>\n",
       "      <th>95</th>\n",
       "      <td>PO Box 5249</td>\n",
       "      <td>MK17 92H. 450Ppw 16\"</td>\n",
       "      <td>NaN</td>\n",
       "    </tr>\n",
       "    <tr>\n",
       "      <th>281</th>\n",
       "      <td>the person is definitely special for u..... B...</td>\n",
       "      <td>why to miss them</td>\n",
       "      <td>just Keep-in-touch\\\" gdeve..\"</td>\n",
       "    </tr>\n",
       "    <tr>\n",
       "      <th>444</th>\n",
       "      <td>HOWU DOIN? FOUNDURSELF A JOBYET SAUSAGE?LOVE ...</td>\n",
       "      <td>NaN</td>\n",
       "      <td>NaN</td>\n",
       "    </tr>\n",
       "    <tr>\n",
       "      <th>671</th>\n",
       "      <td>wanted to say hi. HI!!!\\\" Stop? Send STOP to ...</td>\n",
       "      <td>NaN</td>\n",
       "      <td>NaN</td>\n",
       "    </tr>\n",
       "    <tr>\n",
       "      <th>710</th>\n",
       "      <td>this wont even start........ Datz confidence..\"</td>\n",
       "      <td>NaN</td>\n",
       "      <td>NaN</td>\n",
       "    </tr>\n",
       "    <tr>\n",
       "      <th>899</th>\n",
       "      <td>PO Box 5249</td>\n",
       "      <td>MK17 92H. 450Ppw 16\"</td>\n",
       "      <td>NaN</td>\n",
       "    </tr>\n",
       "    <tr>\n",
       "      <th>1038</th>\n",
       "      <td>GN</td>\n",
       "      <td>GE</td>\n",
       "      <td>GNT:-)\"</td>\n",
       "    </tr>\n",
       "    <tr>\n",
       "      <th>1127</th>\n",
       "      <td>.;-):-D\"</td>\n",
       "      <td>NaN</td>\n",
       "      <td>NaN</td>\n",
       "    </tr>\n",
       "    <tr>\n",
       "      <th>1266</th>\n",
       "      <td>just been in bedbut mite go 2 thepub l8tr if u...</td>\n",
       "      <td>NaN</td>\n",
       "      <td>NaN</td>\n",
       "    </tr>\n",
       "    <tr>\n",
       "      <th>1384</th>\n",
       "      <td>bt not his girlfrnd... G o o d n i g h t . . .@\"</td>\n",
       "      <td>NaN</td>\n",
       "      <td>NaN</td>\n",
       "    </tr>\n",
       "  </tbody>\n",
       "</table>\n",
       "</div>"
      ],
      "text/plain": [
       "                                             Unnamed: 2  \\\n",
       "95                                          PO Box 5249   \n",
       "281    the person is definitely special for u..... B...   \n",
       "444    HOWU DOIN? FOUNDURSELF A JOBYET SAUSAGE?LOVE ...   \n",
       "671    wanted to say hi. HI!!!\\\" Stop? Send STOP to ...   \n",
       "710     this wont even start........ Datz confidence..\"   \n",
       "899                                         PO Box 5249   \n",
       "1038                                                 GN   \n",
       "1127                                           .;-):-D\"   \n",
       "1266  just been in bedbut mite go 2 thepub l8tr if u...   \n",
       "1384   bt not his girlfrnd... G o o d n i g h t . . .@\"   \n",
       "\n",
       "                 Unnamed: 3                      Unnamed: 4  \n",
       "95     MK17 92H. 450Ppw 16\"                             NaN  \n",
       "281        why to miss them   just Keep-in-touch\\\" gdeve..\"  \n",
       "444                     NaN                             NaN  \n",
       "671                     NaN                             NaN  \n",
       "710                     NaN                             NaN  \n",
       "899    MK17 92H. 450Ppw 16\"                             NaN  \n",
       "1038                     GE                         GNT:-)\"  \n",
       "1127                    NaN                             NaN  \n",
       "1266                    NaN                             NaN  \n",
       "1384                    NaN                             NaN  "
      ]
     },
     "execution_count": 143,
     "metadata": {},
     "output_type": "execute_result"
    }
   ],
   "source": [
    "#Exploring some parts of the data where messages are found in Unnamed:3 and Unnamed:4 columns.\n",
    "\n",
    "df[df.columns.drop(['v1','v2'])].dropna(how='all').head(10)"
   ]
  },
  {
   "cell_type": "markdown",
   "metadata": {},
   "source": [
    "**The columns other than v1 and v2 also have messages (shown above).**"
   ]
  },
  {
   "cell_type": "code",
   "execution_count": 144,
   "metadata": {
    "execution": {
     "iopub.execute_input": "2021-05-26T04:58:40.255531Z",
     "iopub.status.busy": "2021-05-26T04:58:40.255116Z",
     "iopub.status.idle": "2021-05-26T04:58:40.268651Z",
     "shell.execute_reply": "2021-05-26T04:58:40.267633Z",
     "shell.execute_reply.started": "2021-05-26T04:58:40.255500Z"
    }
   },
   "outputs": [
    {
     "data": {
      "text/html": [
       "<div>\n",
       "<style scoped>\n",
       "    .dataframe tbody tr th:only-of-type {\n",
       "        vertical-align: middle;\n",
       "    }\n",
       "\n",
       "    .dataframe tbody tr th {\n",
       "        vertical-align: top;\n",
       "    }\n",
       "\n",
       "    .dataframe thead th {\n",
       "        text-align: right;\n",
       "    }\n",
       "</style>\n",
       "<table border=\"1\" class=\"dataframe\">\n",
       "  <thead>\n",
       "    <tr style=\"text-align: right;\">\n",
       "      <th></th>\n",
       "      <th>Unnamed: 2</th>\n",
       "      <th>Unnamed: 3</th>\n",
       "      <th>Unnamed: 4</th>\n",
       "    </tr>\n",
       "  </thead>\n",
       "  <tbody>\n",
       "  </tbody>\n",
       "</table>\n",
       "</div>"
      ],
      "text/plain": [
       "Empty DataFrame\n",
       "Columns: [Unnamed: 2, Unnamed: 3, Unnamed: 4]\n",
       "Index: []"
      ]
     },
     "execution_count": 144,
     "metadata": {},
     "output_type": "execute_result"
    }
   ],
   "source": [
    "df.loc[df['v1'] == 'spam',df.columns.drop(['v1','v2'])].dropna()"
   ]
  },
  {
   "cell_type": "markdown",
   "metadata": {},
   "source": [
    "**None of the columns Unnamed: 2, Unnamed: 3 and Unnamed: 4 have any *Spam* messages.**\n",
    "\n",
    "**Hence we are labelling the messages in these columns as *ham***\n",
    "\n",
    "**Let's try to rearrage these columns to a two column dataframe, where one is for labels and the other is for  messages.**"
   ]
  },
  {
   "cell_type": "code",
   "execution_count": 145,
   "metadata": {
    "execution": {
     "iopub.execute_input": "2021-05-26T04:58:40.270622Z",
     "iopub.status.busy": "2021-05-26T04:58:40.270315Z",
     "iopub.status.idle": "2021-05-26T04:58:40.297700Z",
     "shell.execute_reply": "2021-05-26T04:58:40.296478Z",
     "shell.execute_reply.started": "2021-05-26T04:58:40.270576Z"
    }
   },
   "outputs": [],
   "source": [
    "#Assigning label ham to messages in Unnamed: 2, Unnamed: 3, Unnamed: 4 and concatenating them with v2\n",
    "temp1 = df[['v2','v1']]\n",
    "\n",
    "temp2 = df['Unnamed: 2'].to_frame()\n",
    "temp2.loc[:,'v1'] = 'ham'\n",
    "temp2 = temp2.rename(columns={'Unnamed: 2':'v2'})\n",
    "\n",
    "temp3 = df['Unnamed: 3'].to_frame()\n",
    "temp3.loc[:,'v1'] = 'ham'\n",
    "temp3 = temp3.rename(columns={'Unnamed: 3':'v2'})\n",
    "\n",
    "temp4 = df['Unnamed: 4'].to_frame()\n",
    "temp4.loc[:,'v1'] = 'ham'\n",
    "temp4 = temp4.rename(columns={'Unnamed: 4':'v2'})\n",
    "\n",
    "df = pd.concat([temp1,temp2,temp3,temp4],axis=0).dropna().reindex(columns=['v1','v2'])"
   ]
  },
  {
   "cell_type": "code",
   "execution_count": 146,
   "metadata": {
    "execution": {
     "iopub.execute_input": "2021-05-26T04:58:40.299364Z",
     "iopub.status.busy": "2021-05-26T04:58:40.299065Z",
     "iopub.status.idle": "2021-05-26T04:58:40.312569Z",
     "shell.execute_reply": "2021-05-26T04:58:40.311506Z",
     "shell.execute_reply.started": "2021-05-26T04:58:40.299334Z"
    }
   },
   "outputs": [
    {
     "data": {
      "text/html": [
       "<div>\n",
       "<style scoped>\n",
       "    .dataframe tbody tr th:only-of-type {\n",
       "        vertical-align: middle;\n",
       "    }\n",
       "\n",
       "    .dataframe tbody tr th {\n",
       "        vertical-align: top;\n",
       "    }\n",
       "\n",
       "    .dataframe thead th {\n",
       "        text-align: right;\n",
       "    }\n",
       "</style>\n",
       "<table border=\"1\" class=\"dataframe\">\n",
       "  <thead>\n",
       "    <tr style=\"text-align: right;\">\n",
       "      <th></th>\n",
       "      <th>v1</th>\n",
       "      <th>v2</th>\n",
       "    </tr>\n",
       "  </thead>\n",
       "  <tbody>\n",
       "    <tr>\n",
       "      <th>3525</th>\n",
       "      <td>ham</td>\n",
       "      <td>TX 4 FONIN HON</td>\n",
       "    </tr>\n",
       "    <tr>\n",
       "      <th>4668</th>\n",
       "      <td>ham</td>\n",
       "      <td>\\\"OH No! COMPETITION\\\". Who knew</td>\n",
       "    </tr>\n",
       "    <tr>\n",
       "      <th>5048</th>\n",
       "      <td>ham</td>\n",
       "      <td>GE</td>\n",
       "    </tr>\n",
       "    <tr>\n",
       "      <th>5081</th>\n",
       "      <td>ham</td>\n",
       "      <td>IåÕL CALL U\\\"\"</td>\n",
       "    </tr>\n",
       "    <tr>\n",
       "      <th>281</th>\n",
       "      <td>ham</td>\n",
       "      <td>just Keep-in-touch\\\" gdeve..\"</td>\n",
       "    </tr>\n",
       "    <tr>\n",
       "      <th>1038</th>\n",
       "      <td>ham</td>\n",
       "      <td>GNT:-)\"</td>\n",
       "    </tr>\n",
       "    <tr>\n",
       "      <th>2255</th>\n",
       "      <td>ham</td>\n",
       "      <td>Never comfort me with a lie\\\" gud ni8 and swe...</td>\n",
       "    </tr>\n",
       "    <tr>\n",
       "      <th>3525</th>\n",
       "      <td>ham</td>\n",
       "      <td>CALL 2MWEN IM BK FRMCLOUD 9! J X\\\"\"</td>\n",
       "    </tr>\n",
       "    <tr>\n",
       "      <th>4668</th>\n",
       "      <td>ham</td>\n",
       "      <td>one day these two will become FREINDS FOREVER!\"</td>\n",
       "    </tr>\n",
       "    <tr>\n",
       "      <th>5048</th>\n",
       "      <td>ham</td>\n",
       "      <td>GNT:-)\"</td>\n",
       "    </tr>\n",
       "  </tbody>\n",
       "</table>\n",
       "</div>"
      ],
      "text/plain": [
       "       v1                                                 v2\n",
       "3525  ham                                     TX 4 FONIN HON\n",
       "4668  ham                   \\\"OH No! COMPETITION\\\". Who knew\n",
       "5048  ham                                                 GE\n",
       "5081  ham                                     IåÕL CALL U\\\"\"\n",
       "281   ham                      just Keep-in-touch\\\" gdeve..\"\n",
       "1038  ham                                            GNT:-)\"\n",
       "2255  ham   Never comfort me with a lie\\\" gud ni8 and swe...\n",
       "3525  ham                CALL 2MWEN IM BK FRMCLOUD 9! J X\\\"\"\n",
       "4668  ham    one day these two will become FREINDS FOREVER!\"\n",
       "5048  ham                                            GNT:-)\""
      ]
     },
     "execution_count": 146,
     "metadata": {},
     "output_type": "execute_result"
    }
   ],
   "source": [
    "#Let's print the last 10 messages in our dataframe\n",
    "df.tail(10)"
   ]
  },
  {
   "cell_type": "markdown",
   "metadata": {},
   "source": [
    "**Let's change the column labels of the dataframe for readability.**"
   ]
  },
  {
   "cell_type": "code",
   "execution_count": 147,
   "metadata": {
    "execution": {
     "iopub.execute_input": "2021-05-26T04:58:40.315301Z",
     "iopub.status.busy": "2021-05-26T04:58:40.314573Z",
     "iopub.status.idle": "2021-05-26T04:58:40.321450Z",
     "shell.execute_reply": "2021-05-26T04:58:40.320143Z",
     "shell.execute_reply.started": "2021-05-26T04:58:40.315212Z"
    }
   },
   "outputs": [],
   "source": [
    "#rename the columns for readability\n",
    "df.columns = ['label','message']"
   ]
  },
  {
   "cell_type": "markdown",
   "metadata": {},
   "source": [
    "Let's have a look at the messages labelled as **spam**."
   ]
  },
  {
   "cell_type": "code",
   "execution_count": 148,
   "metadata": {
    "execution": {
     "iopub.execute_input": "2021-05-26T04:58:40.323858Z",
     "iopub.status.busy": "2021-05-26T04:58:40.323230Z",
     "iopub.status.idle": "2021-05-26T04:58:40.344596Z",
     "shell.execute_reply": "2021-05-26T04:58:40.343727Z",
     "shell.execute_reply.started": "2021-05-26T04:58:40.323812Z"
    }
   },
   "outputs": [
    {
     "data": {
      "text/html": [
       "<div>\n",
       "<style scoped>\n",
       "    .dataframe tbody tr th:only-of-type {\n",
       "        vertical-align: middle;\n",
       "    }\n",
       "\n",
       "    .dataframe tbody tr th {\n",
       "        vertical-align: top;\n",
       "    }\n",
       "\n",
       "    .dataframe thead th {\n",
       "        text-align: right;\n",
       "    }\n",
       "</style>\n",
       "<table border=\"1\" class=\"dataframe\">\n",
       "  <thead>\n",
       "    <tr style=\"text-align: right;\">\n",
       "      <th></th>\n",
       "      <th>label</th>\n",
       "      <th>message</th>\n",
       "    </tr>\n",
       "  </thead>\n",
       "  <tbody>\n",
       "    <tr>\n",
       "      <th>2</th>\n",
       "      <td>spam</td>\n",
       "      <td>Free entry in 2 a wkly comp to win FA Cup fina...</td>\n",
       "    </tr>\n",
       "    <tr>\n",
       "      <th>5</th>\n",
       "      <td>spam</td>\n",
       "      <td>FreeMsg Hey there darling it's been 3 week's n...</td>\n",
       "    </tr>\n",
       "    <tr>\n",
       "      <th>8</th>\n",
       "      <td>spam</td>\n",
       "      <td>WINNER!! As a valued network customer you have...</td>\n",
       "    </tr>\n",
       "    <tr>\n",
       "      <th>9</th>\n",
       "      <td>spam</td>\n",
       "      <td>Had your mobile 11 months or more? U R entitle...</td>\n",
       "    </tr>\n",
       "    <tr>\n",
       "      <th>11</th>\n",
       "      <td>spam</td>\n",
       "      <td>SIX chances to win CASH! From 100 to 20,000 po...</td>\n",
       "    </tr>\n",
       "    <tr>\n",
       "      <th>12</th>\n",
       "      <td>spam</td>\n",
       "      <td>URGENT! You have won a 1 week FREE membership ...</td>\n",
       "    </tr>\n",
       "    <tr>\n",
       "      <th>15</th>\n",
       "      <td>spam</td>\n",
       "      <td>XXXMobileMovieClub: To use your credit, click ...</td>\n",
       "    </tr>\n",
       "    <tr>\n",
       "      <th>19</th>\n",
       "      <td>spam</td>\n",
       "      <td>England v Macedonia - dont miss the goals/team...</td>\n",
       "    </tr>\n",
       "    <tr>\n",
       "      <th>34</th>\n",
       "      <td>spam</td>\n",
       "      <td>Thanks for your subscription to Ringtone UK yo...</td>\n",
       "    </tr>\n",
       "    <tr>\n",
       "      <th>42</th>\n",
       "      <td>spam</td>\n",
       "      <td>07732584351 - Rodger Burns - MSG = We tried to...</td>\n",
       "    </tr>\n",
       "  </tbody>\n",
       "</table>\n",
       "</div>"
      ],
      "text/plain": [
       "   label                                            message\n",
       "2   spam  Free entry in 2 a wkly comp to win FA Cup fina...\n",
       "5   spam  FreeMsg Hey there darling it's been 3 week's n...\n",
       "8   spam  WINNER!! As a valued network customer you have...\n",
       "9   spam  Had your mobile 11 months or more? U R entitle...\n",
       "11  spam  SIX chances to win CASH! From 100 to 20,000 po...\n",
       "12  spam  URGENT! You have won a 1 week FREE membership ...\n",
       "15  spam  XXXMobileMovieClub: To use your credit, click ...\n",
       "19  spam  England v Macedonia - dont miss the goals/team...\n",
       "34  spam  Thanks for your subscription to Ringtone UK yo...\n",
       "42  spam  07732584351 - Rodger Burns - MSG = We tried to..."
      ]
     },
     "execution_count": 148,
     "metadata": {},
     "output_type": "execute_result"
    }
   ],
   "source": [
    "df[df['label'] == 'spam'].head(10)"
   ]
  },
  {
   "cell_type": "markdown",
   "metadata": {},
   "source": [
    "**Spam** messages seem to be well structured and lengthy."
   ]
  },
  {
   "cell_type": "markdown",
   "metadata": {},
   "source": [
    "Let's have a look at the countplot of labels."
   ]
  },
  {
   "cell_type": "code",
   "execution_count": 149,
   "metadata": {
    "execution": {
     "iopub.execute_input": "2021-05-26T04:58:40.348372Z",
     "iopub.status.busy": "2021-05-26T04:58:40.347817Z",
     "iopub.status.idle": "2021-05-26T04:58:40.489584Z",
     "shell.execute_reply": "2021-05-26T04:58:40.488747Z",
     "shell.execute_reply.started": "2021-05-26T04:58:40.348315Z"
    }
   },
   "outputs": [
    {
     "name": "stdout",
     "output_type": "stream",
     "text": [
      "percentage of labels:          message\n",
      "label           \n",
      "ham    86.755319\n",
      "spam   13.244681\n"
     ]
    },
    {
     "data": {
      "image/png": "[encoded data removed]",
      "text/plain": [
       "<Figure size 432x288 with 1 Axes>"
      ]
     },
     "metadata": {},
     "output_type": "display_data"
    }
   ],
   "source": [
    "#plotting frequency vs label name\n",
    "_=sns.countplot(data=df,x='label',palette='viridis')\n",
    "print(\"percentage of labels:\",f\"{100*df.groupby('label').count()/len(df)}\")"
   ]
  },
  {
   "cell_type": "markdown",
   "metadata": {},
   "source": [
    "**ham** messages are high in number compared to **spam** messages. The dataset is slightly imbalanced or skewed. We have to take this imbalance into account while training the model."
   ]
  },
  {
   "cell_type": "markdown",
   "metadata": {},
   "source": [
    "Let's have a look at distribution of message sizes."
   ]
  },
  {
   "cell_type": "code",
   "execution_count": 150,
   "metadata": {
    "execution": {
     "iopub.execute_input": "2021-05-26T04:58:40.492462Z",
     "iopub.status.busy": "2021-05-26T04:58:40.491840Z",
     "iopub.status.idle": "2021-05-26T04:58:40.501828Z",
     "shell.execute_reply": "2021-05-26T04:58:40.500846Z",
     "shell.execute_reply.started": "2021-05-26T04:58:40.492410Z"
    }
   },
   "outputs": [],
   "source": [
    "#prepare a length column\n",
    "df['len'] = df['message'].apply(len)"
   ]
  },
  {
   "cell_type": "markdown",
   "metadata": {},
   "source": [
    "Usually spam messages are larger than personal messages. Let's comapare the distribution of the lengths of **spam** and **ham** messages."
   ]
  },
  {
   "cell_type": "code",
   "execution_count": 151,
   "metadata": {
    "execution": {
     "iopub.execute_input": "2021-05-26T04:58:40.503843Z",
     "iopub.status.busy": "2021-05-26T04:58:40.503251Z",
     "iopub.status.idle": "2021-05-26T04:58:41.442057Z",
     "shell.execute_reply": "2021-05-26T04:58:41.440781Z",
     "shell.execute_reply.started": "2021-05-26T04:58:40.503797Z"
    }
   },
   "outputs": [
    {
     "data": {
      "image/png": "[encoded data removed]",
      "text/plain": [
       "<Figure size 864x576 with 1 Axes>"
      ]
     },
     "metadata": {},
     "output_type": "display_data"
    }
   ],
   "source": [
    "fig,ax=plt.subplots(figsize=(12,8))\n",
    "check = 'ham'\n",
    "sns.histplot(df[df['label']==check],x='len',color='green',ax=ax,alpha=0.7)\n",
    "ymin, ymax = plt.gca().get_ylim()\n",
    "plt.vlines(x=df.loc[df['label']==check,'len'].median(),ymin=ymin,ymax=ymax,color='green',alpha=0.5,linestyles='dashed')\n",
    "check = 'spam'\n",
    "sns.histplot(df[df['label']==check],x='len',color='orange',ax=ax,alpha=0.9)\n",
    "plt.vlines(x=df.loc[df['label']==check,'len'].median(),ymin=ymin,ymax=ymax,color='orange',linestyles='dashed')\n",
    "plt.legend(['median ham lengths','median spam lengths'])\n",
    "_=plt.title('Distribution of message sizes')\n",
    "_=plt.ylabel('Count or Frequency')\n",
    "_=plt.xlabel('Message Length  (in characters)')\n"
   ]
  },
  {
   "cell_type": "markdown",
   "metadata": {},
   "source": [
    "**The median of both the frequency distributions indicate that personal messages are mostly short and spam messages are lengthy! Hence we can use the length of messages as a feature while training the model.**"
   ]
  },
  {
   "cell_type": "markdown",
   "metadata": {},
   "source": [
    "## Feature Engineering"
   ]
  },
  {
   "cell_type": "code",
   "execution_count": 152,
   "metadata": {
    "execution": {
     "iopub.execute_input": "2021-05-26T04:58:41.444281Z",
     "iopub.status.busy": "2021-05-26T04:58:41.443820Z",
     "iopub.status.idle": "2021-05-26T04:58:41.449320Z",
     "shell.execute_reply": "2021-05-26T04:58:41.448252Z",
     "shell.execute_reply.started": "2021-05-26T04:58:41.444231Z"
    }
   },
   "outputs": [],
   "source": [
    "#importing functions that helps in feature engineering\n",
    "from nltk.tokenize import word_tokenize\n",
    "from nltk.corpus import stopwords\n",
    "import string"
   ]
  },
  {
   "cell_type": "code",
   "execution_count": 153,
   "metadata": {
    "execution": {
     "iopub.execute_input": "2021-05-26T04:58:41.451698Z",
     "iopub.status.busy": "2021-05-26T04:58:41.451014Z",
     "iopub.status.idle": "2021-05-26T04:58:41.461625Z",
     "shell.execute_reply": "2021-05-26T04:58:41.460751Z",
     "shell.execute_reply.started": "2021-05-26T04:58:41.451651Z"
    }
   },
   "outputs": [],
   "source": [
    "#Collecting words and punctuations to be removed in a list\n",
    "remove_list = set(list(string.punctuation) + stopwords.words('english'))\n",
    "#defining a function that can tokenize the messages, remove unwanted words and punctuations\n",
    "def message_cleaner(message):\n",
    "    cleaned_message = []\n",
    "    for words in word_tokenize(message.lower()):\n",
    "        if(words not in remove_list):\n",
    "            cleaned_message.append(words)\n",
    "        \n",
    "    return cleaned_message"
   ]
  },
  {
   "cell_type": "markdown",
   "metadata": {},
   "source": [
    "Let's test the message cleaner function using a dummy messsage."
   ]
  },
  {
   "cell_type": "code",
   "execution_count": 154,
   "metadata": {
    "execution": {
     "iopub.execute_input": "2021-05-26T04:58:41.463954Z",
     "iopub.status.busy": "2021-05-26T04:58:41.463250Z",
     "iopub.status.idle": "2021-05-26T04:58:41.478479Z",
     "shell.execute_reply": "2021-05-26T04:58:41.477497Z",
     "shell.execute_reply.started": "2021-05-26T04:58:41.463901Z"
    }
   },
   "outputs": [
    {
     "data": {
      "text/plain": [
       "['hey', 'attending', 'guitar', 'competition']"
      ]
     },
     "execution_count": 154,
     "metadata": {},
     "output_type": "execute_result"
    }
   ],
   "source": [
    "message_cleaner('Hey, Are you attending that guitar competition?')"
   ]
  },
  {
   "cell_type": "markdown",
   "metadata": {},
   "source": [
    "Cool. The function seems to do it's job. Now let's calculate tf-idf features from the messages.\n",
    "\n",
    "**The TfidfVectorizer function will run the analyzer (message_cleaner) through each of the messages and create a sparse matrix of words and it's frequency. It then calculates the tf-idf features from this matrix. The length for each message is also calculated and appended to the matrix as a feature.**\n",
    "\n",
    "**We must split the dataset into train and test data for further processing.**"
   ]
  },
  {
   "cell_type": "code",
   "execution_count": 155,
   "metadata": {
    "execution": {
     "iopub.execute_input": "2021-05-26T04:58:41.480211Z",
     "iopub.status.busy": "2021-05-26T04:58:41.479859Z",
     "iopub.status.idle": "2021-05-26T04:58:41.488730Z",
     "shell.execute_reply": "2021-05-26T04:58:41.487654Z",
     "shell.execute_reply.started": "2021-05-26T04:58:41.480178Z"
    }
   },
   "outputs": [],
   "source": [
    "from sklearn.feature_extraction.text import TfidfVectorizer\n",
    "from sklearn.model_selection import train_test_split"
   ]
  },
  {
   "cell_type": "markdown",
   "metadata": {},
   "source": [
    "**Let's map labels *spam* to 1 and *ham* to 0**"
   ]
  },
  {
   "cell_type": "code",
   "execution_count": 156,
   "metadata": {
    "execution": {
     "iopub.execute_input": "2021-05-26T04:58:41.490564Z",
     "iopub.status.busy": "2021-05-26T04:58:41.490251Z",
     "iopub.status.idle": "2021-05-26T04:58:41.504812Z",
     "shell.execute_reply": "2021-05-26T04:58:41.503453Z",
     "shell.execute_reply.started": "2021-05-26T04:58:41.490533Z"
    }
   },
   "outputs": [],
   "source": [
    "df['label'] = df['label'].map(lambda x: 0 if(x=='ham') else 1)"
   ]
  },
  {
   "cell_type": "code",
   "execution_count": 157,
   "metadata": {
    "execution": {
     "iopub.execute_input": "2021-05-26T04:58:41.506809Z",
     "iopub.status.busy": "2021-05-26T04:58:41.506340Z",
     "iopub.status.idle": "2021-05-26T04:58:41.513798Z",
     "shell.execute_reply": "2021-05-26T04:58:41.513007Z",
     "shell.execute_reply.started": "2021-05-26T04:58:41.506773Z"
    }
   },
   "outputs": [],
   "source": [
    "#splitting the dataset\n",
    "X_train,X_test,y_train,y_test = train_test_split(df['message'],df['label'],test_size=0.25)"
   ]
  },
  {
   "cell_type": "code",
   "execution_count": 158,
   "metadata": {
    "execution": {
     "iopub.execute_input": "2021-05-26T04:58:41.515434Z",
     "iopub.status.busy": "2021-05-26T04:58:41.514980Z",
     "iopub.status.idle": "2021-05-26T04:58:41.524675Z",
     "shell.execute_reply": "2021-05-26T04:58:41.523723Z",
     "shell.execute_reply.started": "2021-05-26T04:58:41.515387Z"
    }
   },
   "outputs": [],
   "source": [
    "from sklearn.pipeline import FeatureUnion \n",
    "#FeatureUnion is used to concat feaatures obtained using different transform functions\n",
    "from sklearn.preprocessing import FunctionTransformer\n",
    "#FunctionTransformer can create a transform function from any arbitrary or user defined function\n",
    "from scipy.sparse import csr_matrix"
   ]
  },
  {
   "cell_type": "markdown",
   "metadata": {},
   "source": [
    "**Writing a function that can calculate and return the length of messages in sparse matrix format**"
   ]
  },
  {
   "cell_type": "code",
   "execution_count": 159,
   "metadata": {
    "execution": {
     "iopub.execute_input": "2021-05-26T04:58:41.526518Z",
     "iopub.status.busy": "2021-05-26T04:58:41.526060Z",
     "iopub.status.idle": "2021-05-26T04:58:41.534454Z",
     "shell.execute_reply": "2021-05-26T04:58:41.533738Z",
     "shell.execute_reply.started": "2021-05-26T04:58:41.526445Z"
    }
   },
   "outputs": [],
   "source": [
    "def get_length(df):\n",
    "    df = df.apply(len)\n",
    "    return csr_matrix(df.to_numpy().reshape(-1,1))"
   ]
  },
  {
   "cell_type": "markdown",
   "metadata": {},
   "source": [
    "**Let's unite the TfidfVectorizer and get_length features to a single matrix using a FeatureUnion pipeline. The features matrix can then be created using the fit and transform method on this FeatureUnion object.**"
   ]
  },
  {
   "cell_type": "code",
   "execution_count": 160,
   "metadata": {
    "execution": {
     "iopub.execute_input": "2021-05-26T04:58:41.536241Z",
     "iopub.status.busy": "2021-05-26T04:58:41.535717Z",
     "iopub.status.idle": "2021-05-26T04:58:42.954761Z",
     "shell.execute_reply": "2021-05-26T04:58:42.953787Z",
     "shell.execute_reply.started": "2021-05-26T04:58:41.536210Z"
    }
   },
   "outputs": [],
   "source": [
    "feature_pipe = FeatureUnion([\n",
    "    ('tfidf',TfidfVectorizer(analyzer=message_cleaner)),\n",
    "    ('length',FunctionTransformer(get_length))])\n",
    "tfidf_mat = feature_pipe.fit_transform(X_train)"
   ]
  },
  {
   "cell_type": "markdown",
   "metadata": {},
   "source": [
    "**Let's print the shape of the feature matrix**"
   ]
  },
  {
   "cell_type": "code",
   "execution_count": 161,
   "metadata": {
    "execution": {
     "iopub.execute_input": "2021-05-26T04:58:42.956588Z",
     "iopub.status.busy": "2021-05-26T04:58:42.956252Z",
     "iopub.status.idle": "2021-05-26T04:58:42.961774Z",
     "shell.execute_reply": "2021-05-26T04:58:42.960895Z",
     "shell.execute_reply.started": "2021-05-26T04:58:42.956553Z"
    }
   },
   "outputs": [
    {
     "name": "stdout",
     "output_type": "stream",
     "text": [
      "Shape of the matrix: (4230, 8392)\n"
     ]
    }
   ],
   "source": [
    "print('Shape of the matrix:', tfidf_mat.shape) # This is a very sparse matrix"
   ]
  },
  {
   "cell_type": "markdown",
   "metadata": {
    "execution": {
     "iopub.execute_input": "2021-05-25T05:09:06.731733Z",
     "iopub.status.busy": "2021-05-25T05:09:06.731346Z",
     "iopub.status.idle": "2021-05-25T05:09:06.737392Z",
     "shell.execute_reply": "2021-05-25T05:09:06.736006Z",
     "shell.execute_reply.started": "2021-05-25T05:09:06.731698Z"
    }
   },
   "source": [
    "**Let's check out the tf-idf features of words in the first message (message_num=0)**"
   ]
  },
  {
   "cell_type": "code",
   "execution_count": 162,
   "metadata": {
    "execution": {
     "iopub.execute_input": "2021-05-26T04:58:42.963540Z",
     "iopub.status.busy": "2021-05-26T04:58:42.963148Z",
     "iopub.status.idle": "2021-05-26T04:58:43.026537Z",
     "shell.execute_reply": "2021-05-26T04:58:43.025479Z",
     "shell.execute_reply.started": "2021-05-26T04:58:42.963500Z"
    }
   },
   "outputs": [
    {
     "name": "stdout",
     "output_type": "stream",
     "text": [
      "Word: ...   tf-idf: 0.12987835947683762\n",
      "Word: baby   tf-idf: 0.2645711044648784\n",
      "Word: deep   tf-idf: 0.32825203578158574\n",
      "Word: gentle   tf-idf: 0.33617000142730497\n",
      "Word: gt   tf-idf: 0.18054287568075414\n",
      "Word: inches   tf-idf: 0.33617000142730497\n",
      "Word: inside   tf-idf: 0.33617000142730497\n",
      "Word: lt   tf-idf: 0.18030227353443318\n",
      "Word: pussy   tf-idf: 0.32825203578158574\n",
      "Word: soon   tf-idf: 0.2469623320684992\n",
      "Word: taking   tf-idf: 0.30192842077025694\n",
      "Word: tight   tf-idf: 0.37596320341641304\n",
      "\n",
      "message length: 101.0\n"
     ]
    }
   ],
   "source": [
    "message_num=0 #give the index value of message in DataFrame df\n",
    "\n",
    "#get the indices of the token words in any message and its length\n",
    "ind = tfidf_mat[message_num].nonzero()[1]\n",
    "#print the corresponding word and its tf-idf weights, and the length of the whole message\n",
    "for index in ind:\n",
    "    if(index == (tfidf_mat.shape[1]-1)):\n",
    "        print('\\nmessage length:',tfidf_mat[message_num,index])\n",
    "    else:\n",
    "        print('Word:',feature_pipe.transformer_list[0][1].get_feature_names()[index],'  tf-idf:',tfidf_mat[message_num,index])"
   ]
  },
  {
   "cell_type": "markdown",
   "metadata": {},
   "source": [
    "## Training and tuning the model\n",
    "\n",
    "Let's use the Multinomial naive bayes classifier to train the model and GridSearchCV to tune it"
   ]
  },
  {
   "cell_type": "code",
   "execution_count": 163,
   "metadata": {
    "execution": {
     "iopub.execute_input": "2021-05-26T04:58:43.028201Z",
     "iopub.status.busy": "2021-05-26T04:58:43.027859Z",
     "iopub.status.idle": "2021-05-26T04:58:43.031904Z",
     "shell.execute_reply": "2021-05-26T04:58:43.031132Z",
     "shell.execute_reply.started": "2021-05-26T04:58:43.028168Z"
    }
   },
   "outputs": [],
   "source": [
    "from sklearn.naive_bayes import MultinomialNB\n",
    "from sklearn.model_selection import GridSearchCV"
   ]
  },
  {
   "cell_type": "markdown",
   "metadata": {},
   "source": [
    "**Since the labels are imbalanced, we choose recall as the scoring method. Tuning the model using recall score will improve predictability of the spam messages.**"
   ]
  },
  {
   "cell_type": "code",
   "execution_count": 164,
   "metadata": {
    "execution": {
     "iopub.execute_input": "2021-05-26T04:58:43.034848Z",
     "iopub.status.busy": "2021-05-26T04:58:43.034537Z",
     "iopub.status.idle": "2021-05-26T04:58:43.427326Z",
     "shell.execute_reply": "2021-05-26T04:58:43.426423Z",
     "shell.execute_reply.started": "2021-05-26T04:58:43.034819Z"
    }
   },
   "outputs": [
    {
     "data": {
      "text/plain": [
       "GridSearchCV(cv=6, estimator=MultinomialNB(),\n",
       "             param_grid={'alpha': [0.001, 0.01, 0.1, 0.25, 0.3, 0.35, 0.5, 0.6,\n",
       "                                   0.7, 0.8, 0.9, 1, 2, 5]},\n",
       "             scoring='recall')"
      ]
     },
     "execution_count": 164,
     "metadata": {},
     "output_type": "execute_result"
    }
   ],
   "source": [
    "#define grid search\n",
    "params =  {'alpha':[0.001,0.01,0.1,0.25,0.3,0.35,0.5,0.6,0.7,0.8,0.9,1,2,5]}\n",
    "grid = GridSearchCV(MultinomialNB(),param_grid=params,cv=6,scoring='recall')\n",
    "grid.fit(tfidf_mat,y_train)"
   ]
  },
  {
   "cell_type": "code",
   "execution_count": 165,
   "metadata": {
    "execution": {
     "iopub.execute_input": "2021-05-26T04:58:43.429253Z",
     "iopub.status.busy": "2021-05-26T04:58:43.428955Z",
     "iopub.status.idle": "2021-05-26T04:58:43.867022Z",
     "shell.execute_reply": "2021-05-26T04:58:43.865111Z",
     "shell.execute_reply.started": "2021-05-26T04:58:43.429225Z"
    }
   },
   "outputs": [
    {
     "name": "stdout",
     "output_type": "stream",
     "text": [
      "Accuracy score is: 0.91\n",
      "Best parameter: {'alpha': 0.01}\n"
     ]
    }
   ],
   "source": [
    "#print accuracy score\n",
    "print(f'Accuracy score is: {grid.score(feature_pipe.transform(X_test),y_test):.2f}')\n",
    "#Print the best parameter\n",
    "print('Best parameter:',grid.best_params_)"
   ]
  },
  {
   "cell_type": "markdown",
   "metadata": {},
   "source": [
    "**Let's print and plot the result scores**"
   ]
  },
  {
   "cell_type": "code",
   "execution_count": 166,
   "metadata": {
    "execution": {
     "iopub.execute_input": "2021-05-26T04:58:43.868472Z",
     "iopub.status.busy": "2021-05-26T04:58:43.868226Z",
     "iopub.status.idle": "2021-05-26T04:58:43.872544Z",
     "shell.execute_reply": "2021-05-26T04:58:43.871713Z",
     "shell.execute_reply.started": "2021-05-26T04:58:43.868446Z"
    }
   },
   "outputs": [],
   "source": [
    "from sklearn.metrics import classification_report,confusion_matrix"
   ]
  },
  {
   "cell_type": "code",
   "execution_count": 167,
   "metadata": {
    "execution": {
     "iopub.execute_input": "2021-05-26T04:58:43.874251Z",
     "iopub.status.busy": "2021-05-26T04:58:43.873944Z",
     "iopub.status.idle": "2021-05-26T04:58:44.324788Z",
     "shell.execute_reply": "2021-05-26T04:58:44.323668Z",
     "shell.execute_reply.started": "2021-05-26T04:58:43.874221Z"
    }
   },
   "outputs": [
    {
     "name": "stdout",
     "output_type": "stream",
     "text": [
      "              precision    recall  f1-score   support\n",
      "\n",
      "           0       0.99      0.99      0.99      1225\n",
      "           1       0.95      0.91      0.93       185\n",
      "\n",
      "    accuracy                           0.98      1410\n",
      "   macro avg       0.97      0.95      0.96      1410\n",
      "weighted avg       0.98      0.98      0.98      1410\n",
      "\n"
     ]
    }
   ],
   "source": [
    "#transform test data before predicting\n",
    "transformed_X_test = feature_pipe.transform(X_test)\n",
    "\n",
    "#classify test messages\n",
    "predictions = grid.predict(transformed_X_test)\n",
    "#print classification report\n",
    "print(classification_report(y_test,predictions))"
   ]
  },
  {
   "cell_type": "markdown",
   "metadata": {},
   "source": [
    "**We have a good recall and f1-score for both labels!**"
   ]
  },
  {
   "cell_type": "code",
   "execution_count": 168,
   "metadata": {
    "execution": {
     "iopub.execute_input": "2021-05-26T04:58:44.326498Z",
     "iopub.status.busy": "2021-05-26T04:58:44.326191Z",
     "iopub.status.idle": "2021-05-26T04:58:44.582922Z",
     "shell.execute_reply": "2021-05-26T04:58:44.581843Z",
     "shell.execute_reply.started": "2021-05-26T04:58:44.326467Z"
    }
   },
   "outputs": [
    {
     "data": {
      "image/png": "[encoded data removed]",
      "text/plain": [
       "<Figure size 432x288 with 2 Axes>"
      ]
     },
     "metadata": {},
     "output_type": "display_data"
    }
   ],
   "source": [
    "#create a confusion matrix\n",
    "sns.heatmap(confusion_matrix(y_test,predictions),annot=True,fmt='d')\n",
    "plt.xlabel(['ham predict','spam predict'])\n",
    "_=plt.ylabel(['spam actual','ham actual'])"
   ]
  },
  {
   "cell_type": "markdown",
   "metadata": {},
   "source": [
    "## Thank You"
   ]
  },
  {
   "cell_type": "code",
   "execution_count": null,
   "metadata": {},
   "outputs": [],
   "source": []
  }
 ],
 "metadata": {
  "kernelspec": {
   "display_name": "Python 3",
   "language": "python",
   "name": "python3"
  },
  "language_info": {
   "codemirror_mode": {
    "name": "ipython",
    "version": 3
   },
   "file_extension": ".py",
   "mimetype": "text/x-python",
   "name": "python",
   "nbconvert_exporter": "python",
   "pygments_lexer": "ipython3",
   "version": "3.8.6"
  }
 },
 "nbformat": 4,
 "nbformat_minor": 4
}
