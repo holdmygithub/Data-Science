{
 "cells": [
  {
   "cell_type": "markdown",
   "id": "a7ac4d33",
   "metadata": {},
   "source": [
    "## Bank Note Authentication - PySpark"
   ]
  },
  {
   "cell_type": "markdown",
   "id": "3905c6b5",
   "metadata": {},
   "source": [
    "**Description of the data**\n",
    "\n",
    "Data were extracted from images that were taken from genuine and forged banknote-like specimens. For digitization, an industrial camera usually used for print inspection was used. The final images have 400x 400 pixels. Due to the object lens and distance to the investigated object gray-scale pictures with a resolution of about 660 dpi were gained. Wavelet Transform tool were used to extract features from images.\n",
    "\n",
    "**Data obtained from UCI ML Repository**\n",
    "\n",
    "**Objective:**\n",
    "**To build a classification model that can predict the authenticity of banknotes**"
   ]
  },
  {
   "cell_type": "markdown",
   "id": "b905db2c",
   "metadata": {},
   "source": [
    "### Importing Libraries"
   ]
  },
  {
   "cell_type": "code",
   "execution_count": 15,
   "id": "0e20b13d",
   "metadata": {},
   "outputs": [],
   "source": [
    "import findspark\n",
    "findspark.init()\n",
    "\n",
    "from pyspark.sql import SparkSession, functions as f"
   ]
  },
  {
   "cell_type": "code",
   "execution_count": 16,
   "id": "84e8e19b",
   "metadata": {},
   "outputs": [],
   "source": [
    "spark = SparkSession.builder.master('local[2]').appName('BankNoteAuthentication').getOrCreate()"
   ]
  },
  {
   "cell_type": "code",
   "execution_count": 28,
   "id": "b5389ccd",
   "metadata": {},
   "outputs": [],
   "source": [
    "df = spark.read.csv('BankNote_Authentication.csv',header=True,inferSchema=True)"
   ]
  },
  {
   "cell_type": "markdown",
   "id": "8c184c46",
   "metadata": {},
   "source": [
    "**Let's print the first few elements of the dataset**"
   ]
  },
  {
   "cell_type": "code",
   "execution_count": 29,
   "id": "6123bda7",
   "metadata": {},
   "outputs": [
    {
     "name": "stdout",
     "output_type": "stream",
     "text": [
      "+--------+--------+--------+--------+-----+\n",
      "|variance|skewness|curtosis| entropy|class|\n",
      "+--------+--------+--------+--------+-----+\n",
      "|  3.6216|  8.6661| -2.8073|-0.44699|    0|\n",
      "|  4.5459|  8.1674| -2.4586| -1.4621|    0|\n",
      "|   3.866| -2.6383|  1.9242| 0.10645|    0|\n",
      "|  3.4566|  9.5228| -4.0112| -3.5944|    0|\n",
      "| 0.32924| -4.4552|  4.5718| -0.9888|    0|\n",
      "+--------+--------+--------+--------+-----+\n",
      "only showing top 5 rows\n",
      "\n"
     ]
    }
   ],
   "source": [
    "df.show(5)"
   ]
  },
  {
   "cell_type": "markdown",
   "id": "5ede9346",
   "metadata": {},
   "source": [
    "**Let's describe the dataset**"
   ]
  },
  {
   "cell_type": "code",
   "execution_count": 59,
   "id": "d45f2ce9",
   "metadata": {},
   "outputs": [
    {
     "name": "stdout",
     "output_type": "stream",
     "text": [
      "+-------+------------------+------------------+------------------+------------------+------------------+\n",
      "|summary|          variance|          skewness|          curtosis|           entropy|             class|\n",
      "+-------+------------------+------------------+------------------+------------------+------------------+\n",
      "|  count|              1372|              1372|              1372|              1372|              1372|\n",
      "|   mean|0.4337352570699707|1.9223531206393603|1.3976271172667651|-1.191656520043731|0.4446064139941691|\n",
      "| stddev|2.8427625862785577| 5.869046743695513| 4.310030090106595| 2.101013137359609|0.4971032701256608|\n",
      "|    min|           -7.0421|          -13.7731|           -5.2861|           -8.5482|                 0|\n",
      "|    max|            6.8248|           12.9516|           17.9274|            2.4495|                 1|\n",
      "+-------+------------------+------------------+------------------+------------------+------------------+\n",
      "\n"
     ]
    }
   ],
   "source": [
    "df.describe().show()"
   ]
  },
  {
   "cell_type": "markdown",
   "id": "e4638eb3",
   "metadata": {},
   "source": [
    "**We see four features in the above dataframe: variance, skewness, curtosis and entropy of the images**\n",
    "\n",
    "**Let's print the schema of the data**"
   ]
  },
  {
   "cell_type": "code",
   "execution_count": 30,
   "id": "a1a4f3b9",
   "metadata": {},
   "outputs": [
    {
     "name": "stdout",
     "output_type": "stream",
     "text": [
      "root\n",
      " |-- variance: double (nullable = true)\n",
      " |-- skewness: double (nullable = true)\n",
      " |-- curtosis: double (nullable = true)\n",
      " |-- entropy: double (nullable = true)\n",
      " |-- class: integer (nullable = true)\n",
      "\n"
     ]
    }
   ],
   "source": [
    "df.printSchema()"
   ]
  },
  {
   "cell_type": "markdown",
   "id": "5cda6db6",
   "metadata": {},
   "source": [
    "**Spark has correctly inferred the schema for this data. Hence type casting is not required.**"
   ]
  },
  {
   "cell_type": "markdown",
   "id": "ff75b8c7",
   "metadata": {},
   "source": [
    "**Searching for null values in df**"
   ]
  },
  {
   "cell_type": "code",
   "execution_count": 50,
   "id": "4e471390",
   "metadata": {},
   "outputs": [
    {
     "name": "stdout",
     "output_type": "stream",
     "text": [
      "+------------------+------------------+------------------+-----------------+---------------+\n",
      "|nullcount_variance|nullcount_skewness|nullcount_curtosis|nullcount_entropy|nullcount_class|\n",
      "+------------------+------------------+------------------+-----------------+---------------+\n",
      "|                 0|                 0|                 0|                0|              0|\n",
      "+------------------+------------------+------------------+-----------------+---------------+\n",
      "\n"
     ]
    }
   ],
   "source": [
    "df.select([f.count(f.when(f.isnan(f.col(c)),True)).alias(f'nullcount_{c}') for c in df.columns]).show()"
   ]
  },
  {
   "cell_type": "markdown",
   "id": "e3aadf66",
   "metadata": {},
   "source": [
    "**Note that the dataset is very clean and has no null values present**\n",
    "\n",
    "**Let's print the length of the dataset**"
   ]
  },
  {
   "cell_type": "code",
   "execution_count": 58,
   "id": "f8747ead",
   "metadata": {},
   "outputs": [
    {
     "data": {
      "text/plain": [
       "1372"
      ]
     },
     "execution_count": 58,
     "metadata": {},
     "output_type": "execute_result"
    }
   ],
   "source": [
    "df.count()"
   ]
  },
  {
   "cell_type": "code",
   "execution_count": null,
   "id": "74eb18d8",
   "metadata": {},
   "outputs": [],
   "source": []
  }
 ],
 "metadata": {
  "kernelspec": {
   "display_name": "Python 3",
   "language": "python",
   "name": "python3"
  },
  "language_info": {
   "codemirror_mode": {
    "name": "ipython",
    "version": 3
   },
   "file_extension": ".py",
   "mimetype": "text/x-python",
   "name": "python",
   "nbconvert_exporter": "python",
   "pygments_lexer": "ipython3",
   "version": "3.8.6"
  }
 },
 "nbformat": 4,
 "nbformat_minor": 5
}
