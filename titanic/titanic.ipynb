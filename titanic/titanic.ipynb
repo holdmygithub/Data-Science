{
 "cells": [
  {
   "cell_type": "code",
   "execution_count": null,
   "metadata": {},
   "outputs": [],
   "source": [
    "import pandas as pd\n",
    "import matplotlib.pyplot as plt\n",
    "import seaborn as sns\n",
    "import numpy as np\n",
    "\n",
    "traincsv = pd.read_csv('train.csv')\n",
    "testcsv = pd.read_csv('test.csv')\n",
    "\n",
    "idx = traincsv[traincsv['Embarked'].isna()].index\n",
    "traincsv = traincsv.drop(index = idx)"
   ]
  },
  {
   "cell_type": "code",
   "execution_count": null,
   "metadata": {},
   "outputs": [],
   "source": [
    "traincsv.set_index('PassengerId',inplace=True)\n",
    "testcsv.set_index('PassengerId',inplace=True)\n",
    "traincsv.drop(columns=['Name','Ticket'],inplace= True)\n",
    "testcsv.drop(columns=['Name','Ticket'],inplace = True)\n",
    "\n",
    "agemean = traincsv['Age'].mean()\n",
    "traincsv.fillna({'Age':agemean},inplace=True)\n",
    "\n",
    "y_train = traincsv['Survived']\n",
    "X_train = traincsv.drop(columns='Survived')\n",
    "X_test = testcsv"
   ]
  },
  {
   "cell_type": "code",
   "execution_count": null,
   "metadata": {},
   "outputs": [],
   "source": [
    "\n",
    "X_train.drop(columns='Cabin',inplace=True)\n",
    "X_test.drop(columns='Cabin',inplace=True)\n",
    "\n",
    "X_train.replace({'male':0,'female':1},inplace = True)\n",
    "X_test.replace({'male':0,'female':1},inplace = True)"
   ]
  },
  {
   "cell_type": "code",
   "execution_count": null,
   "metadata": {},
   "outputs": [],
   "source": [
    "%matplotlib notebook\n",
    "_=pd.plotting.scatter_matrix(X_train,c=y_train,figsize= (10,10),alpha=0.7)"
   ]
  },
  {
   "cell_type": "code",
   "execution_count": null,
   "metadata": {},
   "outputs": [],
   "source": [
    "X_train.replace({'S':0,'C':1,'Q':2},inplace = True)\n",
    "X_test.replace({'S':0,'C':1,'Q':2},inplace = True)"
   ]
  },
  {
   "cell_type": "code",
   "execution_count": null,
   "metadata": {},
   "outputs": [],
   "source": [
    "X_test.fillna({'Age':X_test['Age'].mean()},inplace = True)\n",
    "X_test.fillna(method = 'bfill',inplace=True)"
   ]
  },
  {
   "cell_type": "code",
   "execution_count": null,
   "metadata": {},
   "outputs": [],
   "source": [
    "from sklearn.model_selection import GridSearchCV\n",
    "clf = RandomForestClassifier(n_estimators=1000,min_samples_split=10)\n",
    "clf.fit(X_train,y_train)"
   ]
  },
  {
   "cell_type": "code",
   "execution_count": null,
   "metadata": {},
   "outputs": [],
   "source": [
    "csv=pd.Series(clf.predict(X_test),index=X_test.index,name = 'Survived')\n",
    "csv.to_csv('titanic_predict')"
   ]
  }
 ],
 "metadata": {
  "kernelspec": {
   "display_name": "Python 3",
   "language": "python",
   "name": "python3"
  },
  "language_info": {
   "codemirror_mode": {
    "name": "ipython",
    "version": 3
   },
   "file_extension": ".py",
   "mimetype": "text/x-python",
   "name": "python",
   "nbconvert_exporter": "python",
   "pygments_lexer": "ipython3",
   "version": "3.8.2"
  }
 },
 "nbformat": 4,
 "nbformat_minor": 4
}
