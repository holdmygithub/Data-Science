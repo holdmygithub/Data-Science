{
 "cells": [
  {
   "cell_type": "markdown",
   "id": "under-backing",
   "metadata": {},
   "source": [
    "## Machine Translation using Attention models and GloVe (English to German)\n",
    "\n",
    "\n",
    "**Objective: We aim to create a model for translating english to german language**\n",
    "\n",
    "\n",
    "Data credits: http://www.manythings.org/anki/deu-eng.zip <br>\n",
    "GloVe: https://nlp.stanford.edu/data/glove.6B.zip"
   ]
  },
  {
   "cell_type": "code",
   "execution_count": null,
   "id": "tested-breach",
   "metadata": {},
   "outputs": [],
   "source": [
    "import numpy as np\n",
    "import pandas as pd\n",
    "import matplotlib.pyplot as plt\n",
    "import os\n",
    "import sys"
   ]
  },
  {
   "cell_type": "code",
   "execution_count": null,
   "id": "shared-cartridge",
   "metadata": {},
   "outputs": [],
   "source": [
    "NUM_SAMPLES = 10000 #To limit the number of training sentences for faster training\n",
    "MAX_VOCAB_SIZE = 20000\n",
    "MAX_SEQ_LEN = 20\n",
    "NUM_WORDS = 10000\n",
    "EMBEDDING_DIM = 100\n",
    "LSTM_UNITS_ENC = 256\n",
    "LSTM_UNITS_DEC = 256"
   ]
  },
  {
   "cell_type": "markdown",
   "id": "likely-ghost",
   "metadata": {},
   "source": [
    "**Define lists to store the data**"
   ]
  },
  {
   "cell_type": "code",
   "execution_count": null,
   "id": "reported-quick",
   "metadata": {},
   "outputs": [],
   "source": [
    "english_texts = []\n",
    "german_texts_in = []\n",
    "german_texts_out = []"
   ]
  },
  {
   "cell_type": "markdown",
   "id": "cutting-charger",
   "metadata": {},
   "source": [
    "**Read the data**"
   ]
  },
  {
   "cell_type": "code",
   "execution_count": null,
   "id": "herbal-production",
   "metadata": {},
   "outputs": [],
   "source": [
    "samples = 0\n",
    "with open('deu.txt') as f:\n",
    "    for line in f:\n",
    "        samples+=1\n",
    "        if(samples<=NUM_SAMPLES):\n",
    "            eng,spa,_= line.split('\\t')\n",
    "            english_texts.append(eng)\n",
    "            german_texts_in.append(\"<sos> \"+spa)\n",
    "            german_texts_out.append(spa+\" <eos>\")"
   ]
  },
  {
   "cell_type": "markdown",
   "id": "waiting-native",
   "metadata": {},
   "source": [
    "**Tokenizer for English and sequence padding**"
   ]
  },
  {
   "cell_type": "code",
   "execution_count": null,
   "id": "unlimited-violin",
   "metadata": {},
   "outputs": [],
   "source": [
    "from tensorflow.keras.preprocessing.text import Tokenizer\n",
    "from tensorflow.keras.preprocessing.sequence import pad_sequences"
   ]
  },
  {
   "cell_type": "code",
   "execution_count": null,
   "id": "single-wichita",
   "metadata": {},
   "outputs": [],
   "source": [
    "eng_tokenizer = Tokenizer(num_words = MAX_VOCAB_SIZE) #keep the filters for english language\n",
    "eng_tokenizer.fit_on_texts(english_texts)\n",
    "english_texts = eng_tokenizer.texts_to_sequences(english_texts)"
   ]
  },
  {
   "cell_type": "code",
   "execution_count": null,
   "id": "stunning-stone",
   "metadata": {},
   "outputs": [],
   "source": [
    "num_eng_words = min(len(eng_tokenizer.word_index) + 1, NUM_WORDS)"
   ]
  },
  {
   "cell_type": "code",
   "execution_count": null,
   "id": "discrete-preservation",
   "metadata": {},
   "outputs": [],
   "source": [
    "eng_max_seq_length = min(MAX_SEQ_LEN,max(len(s) for s in english_texts))"
   ]
  },
  {
   "cell_type": "code",
   "execution_count": null,
   "id": "automotive-archives",
   "metadata": {},
   "outputs": [],
   "source": [
    "english_texts = pad_sequences(english_texts,eng_max_seq_length)"
   ]
  },
  {
   "cell_type": "markdown",
   "id": "signed-november",
   "metadata": {},
   "source": [
    "**Tokenizer for German and sequence padding**"
   ]
  },
  {
   "cell_type": "code",
   "execution_count": null,
   "id": "experienced-diversity",
   "metadata": {},
   "outputs": [],
   "source": [
    "ger_tokenizer = Tokenizer(num_words = MAX_VOCAB_SIZE,filters='') #keep the filters for english language\n",
    "ger_tokenizer.fit_on_texts(german_texts_in + [\" <eos>\"])\n",
    "german_texts_in = ger_tokenizer.texts_to_sequences(german_texts_in)\n",
    "german_texts_out = ger_tokenizer.texts_to_sequences(german_texts_out)"
   ]
  },
  {
   "cell_type": "code",
   "execution_count": null,
   "id": "changing-determination",
   "metadata": {},
   "outputs": [],
   "source": [
    "num_ger_words = min(len(ger_tokenizer.word_index) + 1, NUM_WORDS)"
   ]
  },
  {
   "cell_type": "code",
   "execution_count": null,
   "id": "asian-style",
   "metadata": {},
   "outputs": [],
   "source": [
    "ger_max_seq_length = min(MAX_SEQ_LEN,max(len(s) for s in german_texts_in))"
   ]
  },
  {
   "cell_type": "code",
   "execution_count": null,
   "id": "fitting-clarity",
   "metadata": {},
   "outputs": [],
   "source": [
    "german_texts_in = pad_sequences(german_texts_in,ger_max_seq_length,padding='post')\n",
    "german_texts_out = pad_sequences(german_texts_out,ger_max_seq_length,padding='post')"
   ]
  },
  {
   "cell_type": "markdown",
   "id": "circular-exemption",
   "metadata": {},
   "source": [
    "**Loading GloVe**"
   ]
  },
  {
   "cell_type": "code",
   "execution_count": null,
   "id": "complicated-ridge",
   "metadata": {},
   "outputs": [],
   "source": [
    "glove = {}\n",
    "with open('glove.6B.100d.txt') as f:\n",
    "    for line in f:\n",
    "        value = line.split()\n",
    "        glove[value[0]] = np.asarray(value[1:])"
   ]
  },
  {
   "cell_type": "markdown",
   "id": "virtual-talent",
   "metadata": {},
   "source": [
    "**Creating embedding matrix for english language**"
   ]
  },
  {
   "cell_type": "code",
   "execution_count": null,
   "id": "favorite-virtue",
   "metadata": {},
   "outputs": [],
   "source": [
    "embedding_matrix = np.zeros((num_eng_words,EMBEDDING_DIM))"
   ]
  },
  {
   "cell_type": "code",
   "execution_count": null,
   "id": "brown-waste",
   "metadata": {},
   "outputs": [],
   "source": [
    "for word,index in eng_tokenizer.word_index.items():\n",
    "    try:\n",
    "        embedding_matrix[index] = glove[word]\n",
    "    except:\n",
    "        pass"
   ]
  },
  {
   "cell_type": "markdown",
   "id": "quality-lancaster",
   "metadata": {},
   "source": [
    "**One hot encoding the outputs**"
   ]
  },
  {
   "cell_type": "code",
   "execution_count": null,
   "id": "loved-planner",
   "metadata": {},
   "outputs": [],
   "source": [
    "one_hot_ger = np.zeros((NUM_SAMPLES,ger_max_seq_length,num_ger_words))"
   ]
  },
  {
   "cell_type": "code",
   "execution_count": null,
   "id": "bulgarian-chosen",
   "metadata": {},
   "outputs": [],
   "source": [
    "for i,sample in enumerate(german_texts_out):\n",
    "    for j,word in enumerate(sample):\n",
    "        one_hot_ger[i,j,word] = 1"
   ]
  },
  {
   "cell_type": "markdown",
   "id": "computational-anthony",
   "metadata": {},
   "source": [
    "**Creating attention model**"
   ]
  },
  {
   "cell_type": "code",
   "execution_count": null,
   "id": "fewer-netherlands",
   "metadata": {},
   "outputs": [],
   "source": [
    "from tensorflow.keras.layers import LSTM,Dense,Concatenate,Dot,Input,Embedding,RepeatVector,Lambda,Bidirectional\n",
    "from tensorflow.keras.activations import softmax"
   ]
  },
  {
   "cell_type": "markdown",
   "id": "expensive-hello",
   "metadata": {},
   "source": [
    "**Encoder**"
   ]
  },
  {
   "cell_type": "code",
   "execution_count": null,
   "id": "innocent-village",
   "metadata": {},
   "outputs": [],
   "source": [
    "enc_input = Input(shape=(eng_max_seq_length))"
   ]
  },
  {
   "cell_type": "code",
   "execution_count": null,
   "id": "gentle-referral",
   "metadata": {},
   "outputs": [],
   "source": [
    "embedding_enc = Embedding(num_eng_words,EMBEDDING_DIM,input_length=eng_max_seq_length,weights = [embedding_matrix])"
   ]
  },
  {
   "cell_type": "code",
   "execution_count": null,
   "id": "global-organic",
   "metadata": {},
   "outputs": [],
   "source": [
    "x = embedding_enc(enc_input)"
   ]
  },
  {
   "cell_type": "code",
   "execution_count": null,
   "id": "acquired-reunion",
   "metadata": {},
   "outputs": [],
   "source": [
    "enc_lstm = Bidirectional(LSTM(LSTM_UNITS_ENC,return_sequences = True,dropout = 0.5))"
   ]
  },
  {
   "cell_type": "code",
   "execution_count": null,
   "id": "existing-transport",
   "metadata": {},
   "outputs": [],
   "source": [
    "h = enc_lstm(x)"
   ]
  },
  {
   "cell_type": "markdown",
   "id": "intelligent-athletics",
   "metadata": {},
   "source": [
    "**Decoder**"
   ]
  },
  {
   "cell_type": "code",
   "execution_count": null,
   "id": "confidential-undergraduate",
   "metadata": {},
   "outputs": [],
   "source": [
    "dec_input = Input(shape=(ger_max_seq_length))"
   ]
  },
  {
   "cell_type": "code",
   "execution_count": null,
   "id": "extraordinary-design",
   "metadata": {},
   "outputs": [],
   "source": [
    "dec_embedding = Embedding(num_ger_words,EMBEDDING_DIM)"
   ]
  },
  {
   "cell_type": "code",
   "execution_count": null,
   "id": "clean-physiology",
   "metadata": {},
   "outputs": [],
   "source": [
    "dec_after_embedding = dec_embedding(dec_input)"
   ]
  },
  {
   "cell_type": "markdown",
   "id": "complete-heather",
   "metadata": {},
   "source": [
    "**Attention**"
   ]
  },
  {
   "cell_type": "code",
   "execution_count": null,
   "id": "invalid-marsh",
   "metadata": {},
   "outputs": [],
   "source": [
    "repeat_vector = RepeatVector(eng_max_seq_length)"
   ]
  },
  {
   "cell_type": "code",
   "execution_count": null,
   "id": "silent-pollution",
   "metadata": {},
   "outputs": [],
   "source": [
    "concat_layer_alpha = Concatenate(axis=-1)"
   ]
  },
  {
   "cell_type": "code",
   "execution_count": null,
   "id": "skilled-abraham",
   "metadata": {},
   "outputs": [],
   "source": [
    "dense_alpha_1 = Dense(10,activation='tanh')"
   ]
  },
  {
   "cell_type": "code",
   "execution_count": null,
   "id": "cheap-central",
   "metadata": {},
   "outputs": [],
   "source": [
    "dense_alpha_2 = Dense(1,activation=lambda x: softmax(x,axis=-1))"
   ]
  },
  {
   "cell_type": "code",
   "execution_count": null,
   "id": "unlikely-commissioner",
   "metadata": {},
   "outputs": [],
   "source": [
    "dot = Dot(axes=1)"
   ]
  },
  {
   "cell_type": "code",
   "execution_count": null,
   "id": "worth-diana",
   "metadata": {},
   "outputs": [],
   "source": [
    "def attention_once(s,h):\n",
    "\n",
    "    x = repeat_vector(s)\n",
    "    x = concat_layer_alpha([x,h])\n",
    "    x = dense_alpha_1(x)\n",
    "    alpha = dense_alpha_2(x)\n",
    "    context = dot([alpha,h])\n",
    "    \n",
    "    return context"
   ]
  },
  {
   "cell_type": "markdown",
   "id": "minus-equilibrium",
   "metadata": {},
   "source": [
    "**Teacher forcing and wiring the layers together**"
   ]
  },
  {
   "cell_type": "code",
   "execution_count": null,
   "id": "blind-surface",
   "metadata": {},
   "outputs": [],
   "source": [
    "import tensorflow.keras.backend as K\n",
    "from tensorflow.keras.models import Model\n",
    "from tensorflow.keras.utils import plot_model"
   ]
  },
  {
   "cell_type": "code",
   "execution_count": null,
   "id": "alpine-yacht",
   "metadata": {},
   "outputs": [],
   "source": [
    "input_s = Input(shape=(LSTM_UNITS_DEC))\n",
    "input_c = Input(shape=(LSTM_UNITS_DEC))"
   ]
  },
  {
   "cell_type": "code",
   "execution_count": null,
   "id": "sharp-bridal",
   "metadata": {},
   "outputs": [],
   "source": [
    "concat_context_word = Concatenate(axis=-1)"
   ]
  },
  {
   "cell_type": "code",
   "execution_count": null,
   "id": "close-batman",
   "metadata": {},
   "outputs": [],
   "source": [
    "dec_lstm = LSTM(LSTM_UNITS_DEC,return_state = True)"
   ]
  },
  {
   "cell_type": "code",
   "execution_count": null,
   "id": "smaller-publicity",
   "metadata": {},
   "outputs": [],
   "source": [
    "dec_dense = Dense(num_ger_words,activation=\"softmax\")"
   ]
  },
  {
   "cell_type": "code",
   "execution_count": null,
   "id": "worst-device",
   "metadata": {},
   "outputs": [],
   "source": [
    "outputs = []\n",
    "s = input_s\n",
    "c = input_c\n",
    "for t in range(ger_max_seq_length):\n",
    "    context_vector = attention_once(s,h)\n",
    "    word_choose = Lambda(lambda x: x[:,t:t+1])\n",
    "    word_input = word_choose(dec_after_embedding)\n",
    "    concat_dec_input = concat_context_word([context_vector,word_input])\n",
    "    dec_out, s,c = dec_lstm(concat_dec_input,initial_state=[s,c])\n",
    "    dec_dense_out = dec_dense(dec_out)\n",
    "    outputs.append(dec_dense_out)"
   ]
  },
  {
   "cell_type": "code",
   "execution_count": null,
   "id": "therapeutic-single",
   "metadata": {},
   "outputs": [],
   "source": [
    "outputs"
   ]
  },
  {
   "cell_type": "markdown",
   "id": "numerous-chocolate",
   "metadata": {},
   "source": [
    "**Reshaping the output layer: (ger_max_seq_length,None,num_ger_words) to (None,ger_max_seq_length,num_ger_words)**"
   ]
  },
  {
   "cell_type": "code",
   "execution_count": null,
   "id": "relevant-filing",
   "metadata": {},
   "outputs": [],
   "source": [
    "def fix_outputs_shape(outputs):\n",
    "    outputs = K.stack(outputs)\n",
    "    outputs = K.permute_dimensions(outputs,(1,0,2))\n",
    "    return outputs"
   ]
  },
  {
   "cell_type": "code",
   "execution_count": null,
   "id": "yellow-equivalent",
   "metadata": {},
   "outputs": [],
   "source": [
    "shape_fixer = Lambda(fix_outputs_shape)"
   ]
  },
  {
   "cell_type": "code",
   "execution_count": null,
   "id": "saved-trance",
   "metadata": {},
   "outputs": [],
   "source": [
    "dec_output = shape_fixer(outputs)"
   ]
  },
  {
   "cell_type": "code",
   "execution_count": null,
   "id": "ethical-windsor",
   "metadata": {},
   "outputs": [],
   "source": [
    "model = Model([enc_input,dec_input,input_s,input_c],dec_output)"
   ]
  },
  {
   "cell_type": "code",
   "execution_count": null,
   "id": "sharing-nigeria",
   "metadata": {},
   "outputs": [],
   "source": [
    "model.summary()"
   ]
  },
  {
   "cell_type": "code",
   "execution_count": null,
   "id": "ancient-battlefield",
   "metadata": {},
   "outputs": [],
   "source": [
    "plot_model(model)"
   ]
  },
  {
   "cell_type": "markdown",
   "id": "consolidated-spotlight",
   "metadata": {},
   "source": [
    "**Compiling and fitting the model**"
   ]
  },
  {
   "cell_type": "code",
   "execution_count": null,
   "id": "strategic-cross",
   "metadata": {},
   "outputs": [],
   "source": [
    "model.compile(optimizer=\"adam\",loss=\"categorical_crossentropy\",metrics = ['accuracy'])"
   ]
  },
  {
   "cell_type": "code",
   "execution_count": null,
   "id": "exceptional-geology",
   "metadata": {},
   "outputs": [],
   "source": [
    "initial_s = np.zeros([NUM_SAMPLES,LSTM_UNITS_DEC])\n",
    "initial_c = np.zeros([NUM_SAMPLES,LSTM_UNITS_DEC])"
   ]
  },
  {
   "cell_type": "code",
   "execution_count": null,
   "id": "plain-bidder",
   "metadata": {},
   "outputs": [],
   "source": [
    "model.fit([english_texts,german_texts_in,initial_s,initial_c],one_hot_ger)"
   ]
  },
  {
   "cell_type": "markdown",
   "id": "greenhouse-music",
   "metadata": {},
   "source": [
    "### Creating the sampling model"
   ]
  },
  {
   "cell_type": "markdown",
   "id": "threaded-uniform",
   "metadata": {},
   "source": [
    "**Encoder**"
   ]
  },
  {
   "cell_type": "code",
   "execution_count": null,
   "id": "neither-combat",
   "metadata": {},
   "outputs": [],
   "source": [
    "encoder_model = Model(enc_input,h)"
   ]
  },
  {
   "cell_type": "markdown",
   "id": "established-welsh",
   "metadata": {},
   "source": [
    "**Decoder**"
   ]
  },
  {
   "cell_type": "code",
   "execution_count": null,
   "id": "ruled-assist",
   "metadata": {},
   "outputs": [],
   "source": [
    "decoder_input = Input(shape=(1))\n",
    "decoder_embedding_out = dec_embedding(decoder_input)"
   ]
  },
  {
   "cell_type": "code",
   "execution_count": null,
   "id": "promotional-blues",
   "metadata": {},
   "outputs": [],
   "source": [
    "encoder_out_to_attention = Input(shape=(eng_max_seq_length,2*LSTM_UNITS_ENC))"
   ]
  },
  {
   "cell_type": "code",
   "execution_count": null,
   "id": "resistant-least",
   "metadata": {},
   "outputs": [],
   "source": [
    "context = attention_once(input_s,encoder_out_to_attention)"
   ]
  },
  {
   "cell_type": "code",
   "execution_count": null,
   "id": "american-panic",
   "metadata": {},
   "outputs": [],
   "source": [
    "decoder_inputs_single = concat_context_word([context,decoder_embedding_out])"
   ]
  },
  {
   "cell_type": "code",
   "execution_count": null,
   "id": "wrapped-fantasy",
   "metadata": {},
   "outputs": [],
   "source": [
    "decoder_lstm_out,s,c = dec_lstm(decoder_inputs_single,initial_state=[input_s,input_c])"
   ]
  },
  {
   "cell_type": "code",
   "execution_count": null,
   "id": "novel-clerk",
   "metadata": {},
   "outputs": [],
   "source": [
    "decoder_dense_out = dec_dense(decoder_lstm_out)"
   ]
  },
  {
   "cell_type": "code",
   "execution_count": null,
   "id": "operating-whale",
   "metadata": {},
   "outputs": [],
   "source": [
    "decoder_model = Model([encoder_out_to_attention,decoder_input,input_s,input_c],[decoder_dense_out,s,c])"
   ]
  },
  {
   "cell_type": "code",
   "execution_count": null,
   "id": "protective-assault",
   "metadata": {},
   "outputs": [],
   "source": [
    "index2word_ger = {s:v for v,s in ger_tokenizer.word_index.items()}\n",
    "word2index = {s:v for v,s in ger_tokenizer.word_index.items()}"
   ]
  },
  {
   "cell_type": "markdown",
   "id": "short-portland",
   "metadata": {},
   "source": [
    "**Predict function**"
   ]
  },
  {
   "cell_type": "code",
   "execution_count": null,
   "id": "important-approval",
   "metadata": {},
   "outputs": [],
   "source": [
    "def predict(input_seq):\n",
    "    input_seq = eng_tokenizer.texts_to_sequences([input_seq])\n",
    "    input_seq = pad_sequences(input_seq,eng_max_seq_length)\n",
    "    \n",
    "    predictions = []\n",
    "    \n",
    "    s = np.zeros((1,LSTM_UNITS_DEC))\n",
    "    c = np.zeros((1,LSTM_UNITS_DEC))\n",
    "    \n",
    "    encoder_out = encoder_model.predict(input_seq)\n",
    "    next_word = np.array([[ger_tokenizer.word_index[\"<sos>\"]]])\n",
    "    \n",
    "    for t in range(ger_max_seq_length):\n",
    "        decoder_out,s,c = decoder_model.predict([encoder_out,next_word,s,c])\n",
    "        \n",
    "        next_word = np.argmax(decoder_out[0])\n",
    "           \n",
    "        if(next_word == ger_tokenizer.word_index[\"<eos>\"]):\n",
    "            break\n",
    "        else:\n",
    "            word = index2word_ger[next_word]\n",
    "            predictions.append(word)\n",
    "            next_word = np.array([[next_word]])\n",
    "    \n",
    "    return ' '.join(predictions)\n",
    "    "
   ]
  },
  {
   "cell_type": "code",
   "execution_count": null,
   "id": "intense-portugal",
   "metadata": {},
   "outputs": [],
   "source": [
    "predict(\"hey good morning\")"
   ]
  }
 ],
 "metadata": {
  "kernelspec": {
   "display_name": "Python 3",
   "language": "python",
   "name": "python3"
  },
  "language_info": {
   "codemirror_mode": {
    "name": "ipython",
    "version": 3
   },
   "file_extension": ".py",
   "mimetype": "text/x-python",
   "name": "python",
   "nbconvert_exporter": "python",
   "pygments_lexer": "ipython3",
   "version": "3.9.5"
  }
 },
 "nbformat": 4,
 "nbformat_minor": 5
}
